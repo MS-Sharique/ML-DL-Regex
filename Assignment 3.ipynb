{
 "cells": [
  {
   "cell_type": "markdown",
   "metadata": {},
   "source": [
    "# Task 3\n",
    "## Machine Learning and Deep learning Summer Internship\n",
    "## Registration id -SIRSS2290\n",
    "## Mohammad Sharique Salman"
   ]
  },
  {
   "cell_type": "markdown",
   "metadata": {},
   "source": [
    "## Q1. Write a function to return nth term of Fibonacci sequence."
   ]
  },
  {
   "cell_type": "code",
   "execution_count": 17,
   "metadata": {},
   "outputs": [
    {
     "name": "stdout",
     "output_type": "stream",
     "text": [
      "Enter a number: 9\n",
      "34\n"
     ]
    }
   ],
   "source": [
    "def fibonacci(n):\n",
    "    if(n<0) :\n",
    "        return(\"incorrect input\")\n",
    "    elif(n==0):\n",
    "        return 0\n",
    "    elif(n==2 or n==1):\n",
    "        return 1\n",
    "    else : \n",
    "        return(fibonacci(n-1) + fibonacci(n-2))\n",
    "n = int(input(\"Enter a number: \"))\n",
    "fibo_result = fibonacci(n)\n",
    "print(fibo_result)"
   ]
  },
  {
   "cell_type": "markdown",
   "metadata": {},
   "source": [
    "## Q2. Write a function to find out GCD of two numbers using EUCLID'S algorithm."
   ]
  },
  {
   "cell_type": "code",
   "execution_count": 18,
   "metadata": {},
   "outputs": [
    {
     "name": "stdout",
     "output_type": "stream",
     "text": [
      "Enter the first number: 32\n",
      "Enter the second number: 4\n",
      "The GCD will be:  4\n"
     ]
    }
   ],
   "source": [
    "def gcd(a,b):\n",
    "    if a< b: \n",
    "        (a,b) = (b,a)\n",
    "    while (a % b != 0):\n",
    "        (a, b) = (b, a % b)\n",
    "    return b\n",
    "a = int(input(\"Enter the first number: \"))\n",
    "b = int(input(\"Enter the second number: \"))\n",
    "print(\"The GCD will be: \", gcd(a,b))"
   ]
  },
  {
   "cell_type": "markdown",
   "metadata": {},
   "source": [
    "## Q3. Write a function to find LCM of two number in most optimizers way."
   ]
  },
  {
   "cell_type": "code",
   "execution_count": 19,
   "metadata": {},
   "outputs": [
    {
     "name": "stdout",
     "output_type": "stream",
     "text": [
      "Enter the first number: 288\n",
      "Enter the second number: 4\n",
      "The L.C.M. is 288\n"
     ]
    }
   ],
   "source": [
    "def olcm(a, b):\n",
    "    lcm = (a*b)//gcd(a,b)#Using the GCD function from the previous question\n",
    "    return lcm\n",
    "\n",
    "a = int(input(\"Enter the first number: \"))\n",
    "b = int(input(\"Enter the second number: \"))\n",
    "\n",
    "\n",
    "print(\"The L.C.M. is\", olcm(a, b))"
   ]
  }
 ],
 "metadata": {
  "kernelspec": {
   "display_name": "Python 3",
   "language": "python",
   "name": "python3"
  },
  "language_info": {
   "codemirror_mode": {
    "name": "ipython",
    "version": 3
   },
   "file_extension": ".py",
   "mimetype": "text/x-python",
   "name": "python",
   "nbconvert_exporter": "python",
   "pygments_lexer": "ipython3",
   "version": "3.7.3"
  }
 },
 "nbformat": 4,
 "nbformat_minor": 2
}
