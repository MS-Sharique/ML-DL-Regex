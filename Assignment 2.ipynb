{
 "cells": [
  {
   "cell_type": "markdown",
   "metadata": {},
   "source": [
    "# Task 2\n",
    "## Machine Learning and Deep learning Summer Internship\n",
    "## Registration id -SIRSS2290\n",
    "## Mohammad Sharique Salman"
   ]
  },
  {
   "cell_type": "markdown",
   "metadata": {},
   "source": [
    "## Q1. Write a lambda expression to extract first word of a string."
   ]
  },
  {
   "cell_type": "code",
   "execution_count": 16,
   "metadata": {},
   "outputs": [
    {
     "name": "stdout",
     "output_type": "stream",
     "text": [
      "Enter a string : Write a lambda expression to extract first word of a string\n",
      "First word of the string is :  Write\n"
     ]
    }
   ],
   "source": [
    "s = input(\"Enter a string : \")\n",
    "first_word = lambda x: s.split()[x]\n",
    "print(\"First word of the string is : \",first_word(0))"
   ]
  },
  {
   "cell_type": "markdown",
   "metadata": {},
   "source": [
    "## Q2. Write a function to extract first word of s string (with many words separated by space)."
   ]
  },
  {
   "cell_type": "code",
   "execution_count": 17,
   "metadata": {},
   "outputs": [
    {
     "name": "stdout",
     "output_type": "stream",
     "text": [
      "Enter a string : Machine Learning and Deep learning Summer Internship\n",
      "Machine\n"
     ]
    }
   ],
   "source": [
    "s = input(\"Enter a string : \")\n",
    "def extract(s):\n",
    "    return s.split()[0]\n",
    "print(extract(s))"
   ]
  },
  {
   "cell_type": "markdown",
   "metadata": {},
   "source": [
    "## Q3. Extract the first word from every string from a list of strings by using map function."
   ]
  },
  {
   "cell_type": "code",
   "execution_count": 18,
   "metadata": {},
   "outputs": [
    {
     "name": "stdout",
     "output_type": "stream",
     "text": [
      "First words are:  ['Hello', 'I', 'Hello,', 'Good']\n"
     ]
    }
   ],
   "source": [
    "ss=[\"Hello jack. How are you? You look a little bad today, is everything okay?\",\n",
    "\"I am very pleased to meet you, can I please have your phone number?\",\n",
    "\"Hello, I just came to this school. Can I meet you? Where are you from and what do you like, can I learn?\",\n",
    "\"Good afternoon, can I have a menu, please? If I ask, can I have water with my meal? Everything was very nice, I will come again.\"]\n",
    "\n",
    "def first_word(ss):\n",
    "    return ss.split()[0]\n",
    "first_words = list(map(first_word,ss))\n",
    "print(\"First words are: \", first_words)"
   ]
  },
  {
   "cell_type": "markdown",
   "metadata": {},
   "source": [
    "## Q4. Write a function to return a list of prime factors of a given number."
   ]
  },
  {
   "cell_type": "code",
   "execution_count": 19,
   "metadata": {},
   "outputs": [
    {
     "name": "stdout",
     "output_type": "stream",
     "text": [
      "Enter a number for list of it's prime factors : 128\n",
      "List of it's prime factors is:  [2, 2, 2, 2, 2, 2, 2]\n"
     ]
    }
   ],
   "source": [
    "factor_list = []\n",
    "def prime_f_list(n):\n",
    "    factors = []\n",
    "    div = 2\n",
    "    \n",
    "    while div <= n:\n",
    "        if n%div == 0:\n",
    "            factors.append(div)\n",
    "            n = n/div\n",
    "        else:\n",
    "            div += 1\n",
    "    return factors\n",
    "n = int(input(\"Enter a number for list of it's prime factors : \"))\n",
    "print(\"List of it's prime factors is: \",prime_f_list(n))"
   ]
  },
  {
   "cell_type": "markdown",
   "metadata": {},
   "source": [
    "## Q5. Write a function that finds 2nd largest among 4 numbers (Repetitions are allowed, without sorting)."
   ]
  },
  {
   "cell_type": "code",
   "execution_count": 20,
   "metadata": {},
   "outputs": [
    {
     "name": "stdout",
     "output_type": "stream",
     "text": [
      "Enter elements: 54\n",
      "Enter elements: 35\n",
      "Enter elements: 65\n",
      "Enter elements: 76\n",
      "Second largest number is : 65\n"
     ]
    }
   ],
   "source": [
    "l =[]\n",
    "for i in range(1, 5):\n",
    "    inputs = int(input(\"Enter elements: \"))\n",
    "    l.append(inputs)\n",
    "    \n",
    "ordered_list=set(l)\n",
    "ordered_list.remove(max(ordered_list))\n",
    "print(\"Second largest number is :\",max(ordered_list))"
   ]
  }
 ],
 "metadata": {
  "kernelspec": {
   "display_name": "Python 3",
   "language": "python",
   "name": "python3"
  },
  "language_info": {
   "codemirror_mode": {
    "name": "ipython",
    "version": 3
   },
   "file_extension": ".py",
   "mimetype": "text/x-python",
   "name": "python",
   "nbconvert_exporter": "python",
   "pygments_lexer": "ipython3",
   "version": "3.7.3"
  }
 },
 "nbformat": 4,
 "nbformat_minor": 2
}
