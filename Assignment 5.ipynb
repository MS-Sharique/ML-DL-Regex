{
 "cells": [
  {
   "cell_type": "markdown",
   "metadata": {},
   "source": [
    "## Task 5\n",
    "## Machine Learning and Deep learning Summer Internship\n",
    "## Registration id -SIRSS2290\n",
    "## Mohammad Sharique Salman\n",
    "\n"
   ]
  },
  {
   "cell_type": "markdown",
   "metadata": {},
   "source": [
    "## Q1. Given a list of integers, write a function to return the sum of all prime numbers in that list."
   ]
  },
  {
   "cell_type": "code",
   "execution_count": 1,
   "metadata": {},
   "outputs": [
    {
     "name": "stdout",
     "output_type": "stream",
     "text": [
      "Enter the size of the list : 4\n",
      "Enter no. \n",
      "1\n",
      "Enter no. \n",
      "2\n",
      "Enter no. \n",
      "5\n",
      "Enter no. \n",
      "7\n",
      "[1, 2, 5, 7]\n"
     ]
    },
    {
     "data": {
      "text/plain": [
       "15"
      ]
     },
     "execution_count": 1,
     "metadata": {},
     "output_type": "execute_result"
    }
   ],
   "source": [
    "num_list=[] \n",
    "size = int(input(\"Enter the size of the list : \"))\n",
    "for i in range (size):\n",
    "    x=int(input(\"Enter no. \\n\")) \n",
    "    num_list.insert(i,x)\n",
    "    i+=1\n",
    "print(num_list) \n",
    "def sprime(num_list):\n",
    "    prime_list = []\n",
    "    for i in num_list:\n",
    "        for j in range(2, i-1 ):\n",
    "            if i%j == 0:\n",
    "                break\n",
    "        else:\n",
    "            prime_list.append(i)\n",
    "    return sum(prime_list)\n",
    "sprime(num_list)\n"
   ]
  },
  {
   "cell_type": "markdown",
   "metadata": {},
   "source": [
    "## Q2. Given a list of integers, write a function to check whether the list is strictly increasing or not."
   ]
  },
  {
   "cell_type": "code",
   "execution_count": 2,
   "metadata": {},
   "outputs": [
    {
     "name": "stdout",
     "output_type": "stream",
     "text": [
      "Enter the size of the list : 4\n",
      "Enter no. \n",
      "2\n",
      "Enter no. \n",
      "4\n",
      "Enter no. \n",
      "7\n",
      "Enter no. \n",
      "8\n",
      "[2, 4, 7, 8]\n",
      "Yes, the list is stritly increasing.\n"
     ]
    }
   ],
   "source": [
    "num_list=[] \n",
    "size = int(input(\"Enter the size of the list : \"))\n",
    "for i in range (size):\n",
    "    x=int(input(\"Enter no. \\n\")) \n",
    "    num_list.insert(i,x)\n",
    "    i+=1\n",
    "print(num_list) \n",
    "\n",
    "if (all(i < j for i, j in zip(num_list, num_list[1:]))):\n",
    "    print(\"Yes, the list is stritly increasing.\")\n",
    "else:\n",
    "    print(\"No, the list is not strictly increasing.\")"
   ]
  },
  {
   "cell_type": "markdown",
   "metadata": {},
   "source": [
    "## Q3. Write a function to check whether a given list is expanding or not (the difference between adjacent elements should keep on increasing)."
   ]
  },
  {
   "cell_type": "code",
   "execution_count": 3,
   "metadata": {},
   "outputs": [
    {
     "name": "stdout",
     "output_type": "stream",
     "text": [
      "Enter the size of the list : 6\n",
      "Enter no. \n",
      "43\n",
      "Enter no. \n",
      "56\n",
      "Enter no. \n",
      "78\n",
      "Enter no. \n",
      "175\n",
      "Enter no. \n",
      "345\n",
      "Enter no. \n",
      "566\n"
     ]
    },
    {
     "data": {
      "text/plain": [
       "'List is expanding'"
      ]
     },
     "execution_count": 3,
     "metadata": {},
     "output_type": "execute_result"
    }
   ],
   "source": [
    "arr =[]\n",
    "size = int(input(\"Enter the size of the list : \"))\n",
    "for i in range (size):\n",
    "    x=int(input(\"Enter no. \\n\")) \n",
    "    arr.insert(i,x)\n",
    "    i+=1\n",
    "def is_expanding(arr):\n",
    "    if all(arr[i] <= arr[i + 1] for i in range(len(arr) - 1)): \n",
    "        return \"List is expanding\" \n",
    "    elif all(arr[i] >= arr[i + 1] for i in range(len(arr) - 1)):\n",
    "        return \"List is expanding\"\n",
    "    else :\n",
    "        return \"List is not expanding\"\n",
    "\n",
    "is_expanding(arr)    "
   ]
  },
  {
   "cell_type": "markdown",
   "metadata": {},
   "source": [
    "## Q4. Write a function to calculate all permutations of a given string. (Without using itertools)"
   ]
  },
  {
   "cell_type": "code",
   "execution_count": 4,
   "metadata": {},
   "outputs": [
    {
     "name": "stdout",
     "output_type": "stream",
     "text": [
      "Enter a string to get all possible permutations: car\n"
     ]
    },
    {
     "data": {
      "text/plain": [
       "['car', 'cra', 'acr', 'arc', 'rca', 'rac']"
      ]
     },
     "execution_count": 4,
     "metadata": {},
     "output_type": "execute_result"
    }
   ],
   "source": [
    "string = input(\"Enter a string to get all possible permutations: \")\n",
    "def permutations(string):\n",
    "    permutation_list = []\n",
    "    if len(string) == 1:\n",
    "        return [string]\n",
    "    else:\n",
    "        for char in string:\n",
    "            [permutation_list.append(char + a) for a in permutations(string.replace(char, \"\", 1))]\n",
    "    return permutation_list\n",
    "permutations(string)"
   ]
  },
  {
   "cell_type": "markdown",
   "metadata": {},
   "source": [
    "# Thank You"
   ]
  }
 ],
 "metadata": {
  "kernelspec": {
   "display_name": "Python 3",
   "language": "python",
   "name": "python3"
  },
  "language_info": {
   "codemirror_mode": {
    "name": "ipython",
    "version": 3
   },
   "file_extension": ".py",
   "mimetype": "text/x-python",
   "name": "python",
   "nbconvert_exporter": "python",
   "pygments_lexer": "ipython3",
   "version": "3.7.3"
  }
 },
 "nbformat": 4,
 "nbformat_minor": 2
}
