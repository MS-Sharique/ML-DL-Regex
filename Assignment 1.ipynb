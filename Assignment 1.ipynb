{
 "cells": [
  {
   "cell_type": "markdown",
   "metadata": {},
   "source": [
    "# Task 1\n",
    "\n",
    "\n"
   ]
  },
  {
   "cell_type": "markdown",
   "metadata": {},
   "source": [
    "## Machine Learning and Deep learning Summer Internship\n",
    "## Registration id -SIRSS2290\n",
    "\n"
   ]
  },
  {
   "cell_type": "markdown",
   "metadata": {},
   "source": [
    "## Mohammad Sharique Salman"
   ]
  },
  {
   "cell_type": "markdown",
   "metadata": {},
   "source": [
    "Write code in python to print following patterns:-"
   ]
  },
  {
   "cell_type": "markdown",
   "metadata": {},
   "source": [
    "## Pattern 1"
   ]
  },
  {
   "cell_type": "markdown",
   "metadata": {},
   "source": [
    "**5 5 5 5 5  \n",
    "5 5 5 5  \n",
    "5 5 5  \n",
    "5 5  \n",
    "5**\n"
   ]
  },
  {
   "cell_type": "code",
   "execution_count": 1,
   "metadata": {},
   "outputs": [
    {
     "name": "stdout",
     "output_type": "stream",
     "text": [
      "5 5 5 5 5 \r\n",
      "5 5 5 5 \r\n",
      "5 5 5 \r\n",
      "5 5 \r\n",
      "5 \r\n"
     ]
    }
   ],
   "source": [
    "lines = 5\n",
    "for i in range(lines, 0, -1):\n",
    "    for j in range(0, i):\n",
    "        print(5, end=' ')\n",
    "    print(\"\\r\")"
   ]
  },
  {
   "cell_type": "markdown",
   "metadata": {},
   "source": [
    "## Pattern 2"
   ]
  },
  {
   "cell_type": "markdown",
   "metadata": {},
   "source": [
    "**0 1 2 3 4 5  \n",
    "0 1 2 3 4  \n",
    "0 1 2 3  \n",
    "0 1 2  \n",
    "0 1**\n"
   ]
  },
  {
   "cell_type": "code",
   "execution_count": 2,
   "metadata": {},
   "outputs": [
    {
     "name": "stdout",
     "output_type": "stream",
     "text": [
      "0 1 2 3 4 5 \n",
      "0 1 2 3 4 \n",
      "0 1 2 3 \n",
      "0 1 2 \n",
      "0 1 \n"
     ]
    }
   ],
   "source": [
    "for i in range (6,1,-1):\n",
    "    for j in range (0,i,1):\n",
    "        print(j, end =\" \")\n",
    "    print()"
   ]
  },
  {
   "cell_type": "markdown",
   "metadata": {},
   "source": [
    "## Pattern 3\n",
    "**1  \n",
    "3 3  \n",
    "5 5 5  \n",
    "7 7 7 7  \n",
    "9 9 9 9 9**"
   ]
  },
  {
   "cell_type": "code",
   "execution_count": 3,
   "metadata": {},
   "outputs": [
    {
     "name": "stdout",
     "output_type": "stream",
     "text": [
      "1 \n",
      "3 3 \n",
      "5 5 5 \n",
      "7 7 7 7 \n",
      "9 9 9 9 9 \n"
     ]
    }
   ],
   "source": [
    "val = 5\n",
    "i = 1\n",
    "while i <= val:\n",
    "    j = 1\n",
    "    while j <= i:\n",
    "        print((i * 2 - 1), end=\" \")\n",
    "        j = j + 1\n",
    "    i = i + 1\n",
    "    print('')\n"
   ]
  },
  {
   "cell_type": "markdown",
   "metadata": {},
   "source": [
    "## Pattern 4"
   ]
  },
  {
   "cell_type": "markdown",
   "metadata": {},
   "source": [
    "**1  \n",
    "2 1  \n",
    "3 2 1  \n",
    "4 3 2 1  \n",
    "5 4 3 2 1**  "
   ]
  },
  {
   "cell_type": "code",
   "execution_count": 4,
   "metadata": {},
   "outputs": [
    {
     "name": "stdout",
     "output_type": "stream",
     "text": [
      "1  \n",
      "2 1  \n",
      "3 2 1  \n",
      "4 3 2 1  \n",
      "5 4 3 2 1  \n"
     ]
    }
   ],
   "source": [
    "lim = 6\n",
    "for i in range (1,lim,1):\n",
    "    for j in range (0,i,1):\n",
    "        print(i-j, end =\" \")\n",
    "    print(\" \")"
   ]
  },
  {
   "cell_type": "markdown",
   "metadata": {},
   "source": [
    "## Pattern 5"
   ]
  },
  {
   "cell_type": "markdown",
   "metadata": {},
   "source": [
    "**1  \n",
    "3 2  \n",
    "6 5 4  \n",
    "10 9 8 7**  "
   ]
  },
  {
   "cell_type": "code",
   "execution_count": 5,
   "metadata": {},
   "outputs": [
    {
     "name": "stdout",
     "output_type": "stream",
     "text": [
      "1  \n",
      "3 2  \n",
      "6 5 4  \n",
      "10 9 8 7  \n"
     ]
    }
   ],
   "source": [
    "lim=1\n",
    "for i in range (1,5,1):\n",
    "    for j in range (0,i,1):\n",
    "        print(lim-j, end =\" \")\n",
    "    lim += i+1\n",
    "    print(\" \")"
   ]
  },
  {
   "cell_type": "markdown",
   "metadata": {},
   "source": [
    "## Pattern 6"
   ]
  },
  {
   "cell_type": "markdown",
   "metadata": {},
   "source": [
    "**1  \n",
    "1 1  \n",
    "1 2 1  \n",
    "1 3 3 1  \n",
    "1 4 6 4 1  \n",
    "1 5 10 10 5 1  \n",
    "1 6 15 20 15 6 1**  "
   ]
  },
  {
   "cell_type": "code",
   "execution_count": 6,
   "metadata": {},
   "outputs": [
    {
     "name": "stdout",
     "output_type": "stream",
     "text": [
      "1  \n",
      "1 1  \n",
      "1 2 1  \n",
      "1 3 3 1  \n",
      "1 4 6 4 1  \n",
      "1 5 10 10 5 1  \n",
      "1 6 15 20 15 6 1  \n"
     ]
    }
   ],
   "source": [
    "def catch_num(n, k):\n",
    "    num = 1\n",
    "    if k > n - k:\n",
    "        k = n - k\n",
    "    for i in range(0, k):\n",
    "        num = num * (n - i)\n",
    "        num = num // (i + 1)\n",
    "    return num\n",
    "size = 7\n",
    "for i in range(0, size):\n",
    "    for j in range(0, i + 1):\n",
    "        print(catch_num(i, j), end=\" \")\n",
    "    print(\" \")\n"
   ]
  },
  {
   "cell_type": "markdown",
   "metadata": {},
   "source": [
    "## Pattern 7"
   ]
  },
  {
   "cell_type": "markdown",
   "metadata": {},
   "source": [
    "**1  2  3  4  5  \n",
    "2  2  3  4  5  \n",
    "3  3  3  4  5  \n",
    "4  4  4  4  5  \n",
    "5  5  5  5  5**"
   ]
  },
  {
   "cell_type": "code",
   "execution_count": 7,
   "metadata": {},
   "outputs": [
    {
     "name": "stdout",
     "output_type": "stream",
     "text": [
      "1 2 3 4 5 \n",
      "2 2 3 4 5 \n",
      "3 3 3 4 5 \n",
      "4 4 4 4 5 \n",
      "5 5 5 5 5 \n"
     ]
    }
   ],
   "source": [
    "for i in range(1, 6):\n",
    "    for j in range(1, 6):\n",
    "        if j <= i:\n",
    "            print(i, end=' ')\n",
    "        else:\n",
    "            print(j, end=' ')\n",
    "    print()\n"
   ]
  },
  {
   "cell_type": "markdown",
   "metadata": {},
   "source": [
    "## Pattern 8"
   ]
  },
  {
   "cell_type": "markdown",
   "metadata": {},
   "source": [
    "**1  \n",
    "2 4  \n",
    "3 6 9  \n",
    "4 8 12 16  \n",
    "5 10 15 20 25  \n",
    "6 12 18 24 30 36  \n",
    "7 14 21 28 35 42 49  \n",
    "8 16 24 32 40 48 56 64**  "
   ]
  },
  {
   "cell_type": "code",
   "execution_count": 8,
   "metadata": {},
   "outputs": [
    {
     "name": "stdout",
     "output_type": "stream",
     "text": [
      "1  \n",
      "2 4  \n",
      "3 6 9  \n",
      "4 8 12 16  \n",
      "5 10 15 20 25  \n",
      "6 12 18 24 30 36  \n",
      "7 14 21 28 35 42 49  \n",
      "8 16 24 32 40 48 56 64  \n"
     ]
    }
   ],
   "source": [
    "for i in range(1, 9):\n",
    "    for j in range(1, i + 1):\n",
    "        res = i * j\n",
    "        print(i * j, end=' ')\n",
    "    print(\" \")\n"
   ]
  },
  {
   "cell_type": "markdown",
   "metadata": {},
   "source": [
    "## Pattern 9"
   ]
  },
  {
   "cell_type": "markdown",
   "metadata": {},
   "source": [
    "    * * * * * * \n",
    "     * * * * * \n",
    "      * * * * \n",
    "       * * * \n",
    "        * * \n",
    "         * "
   ]
  },
  {
   "cell_type": "code",
   "execution_count": 9,
   "metadata": {},
   "outputs": [
    {
     "name": "stdout",
     "output_type": "stream",
     "text": [
      "* * * * * * \n",
      " * * * * * \n",
      "  * * * * \n",
      "   * * * \n",
      "    * * \n",
      "     * \n"
     ]
    }
   ],
   "source": [
    "for i in range(6,0,-1):\n",
    "    print(\" \"*(6-i)+\"* \"*i)"
   ]
  },
  {
   "cell_type": "markdown",
   "metadata": {},
   "source": [
    "## Pattern 10"
   ]
  },
  {
   "cell_type": "markdown",
   "metadata": {},
   "source": [
    "          *\n",
    "         *  *  \n",
    "        *  *  *\n",
    "       *  *  *  *\n",
    "      *  *  *  *  *\n",
    "     *  *  *  *  *  *\n",
    "    *  *  *  *  *  *  * "
   ]
  },
  {
   "cell_type": "code",
   "execution_count": 10,
   "metadata": {},
   "outputs": [
    {
     "name": "stdout",
     "output_type": "stream",
     "text": [
      "       *  \n",
      "      *  *  \n",
      "     *  *  *  \n",
      "    *  *  *  *  \n",
      "   *  *  *  *  *  \n",
      "  *  *  *  *  *  *  \n",
      " *  *  *  *  *  *  *  \n"
     ]
    }
   ],
   "source": [
    "for i in range(1,8):\n",
    "    print(\" \"*(8-i)+\"*  \"*i)"
   ]
  },
  {
   "cell_type": "markdown",
   "metadata": {},
   "source": [
    "## Pattern 11"
   ]
  },
  {
   "cell_type": "markdown",
   "metadata": {},
   "source": [
    "    *  \n",
    "    * *  \n",
    "    * * *  \n",
    "    * * * *  \n",
    "    * * * * *  \n",
    "    * * * * * *  \n",
    " \n",
    "    * * * * * *  \n",
    "    * * * * *  \n",
    "    * * * *  \n",
    "    * * *  \n",
    "    * *  \n",
    "    *  "
   ]
  },
  {
   "cell_type": "code",
   "execution_count": 11,
   "metadata": {},
   "outputs": [
    {
     "name": "stdout",
     "output_type": "stream",
     "text": [
      "*  \n",
      "* *  \n",
      "* * *  \n",
      "* * * *  \n",
      "* * * * *  \n",
      "* * * * * *  \n",
      " \n",
      "* * * * * *  \n",
      "* * * * *  \n",
      "* * * *  \n",
      "* * *  \n",
      "* *  \n",
      "*  \n",
      " \n"
     ]
    }
   ],
   "source": [
    "for i in range(0, 6):\n",
    "    for j in range(0, i + 1):\n",
    "        print(\"*\", end=' ')\n",
    "    print(\" \")\n",
    "\n",
    "print(\" \")\n",
    "\n",
    "for i in range(7, 0, -1):\n",
    "    for j in range(0, i - 1):\n",
    "        print(\"*\", end=' ')\n",
    "    print(\" \")"
   ]
  },
  {
   "cell_type": "markdown",
   "metadata": {},
   "source": [
    "## Pattern 12"
   ]
  },
  {
   "cell_type": "markdown",
   "metadata": {},
   "source": [
    "    * \n",
    "    * * \n",
    "    * * * \n",
    "    * * * * \n",
    "    * * * * * \n",
    "    * * * * \n",
    "    * * * \n",
    "    * * \n",
    "    * \n"
   ]
  },
  {
   "cell_type": "code",
   "execution_count": 12,
   "metadata": {},
   "outputs": [
    {
     "name": "stdout",
     "output_type": "stream",
     "text": [
      "* \r\n",
      "* * \r\n",
      "* * * \r\n",
      "* * * * \r\n",
      "* * * * * \r\n",
      "* * * * \r\n",
      "* * * \r\n",
      "* * \r\n",
      "* \r\n",
      "\r\n"
     ]
    }
   ],
   "source": [
    "for i in range(0, 5):\n",
    "    for j in range(0, i + 1):\n",
    "        print(\"*\", end=' ')\n",
    "    print(\"\\r\")\n",
    "\n",
    "for i in range(5, 0, -1):\n",
    "    for j in range(0, i - 1):\n",
    "        print(\"*\", end=' ')\n",
    "    print(\"\\r\")"
   ]
  },
  {
   "cell_type": "markdown",
   "metadata": {},
   "source": [
    "## Pattern 13"
   ]
  },
  {
   "cell_type": "markdown",
   "metadata": {},
   "source": [
    "            * \n",
    "          * * \n",
    "        * * * \n",
    "      * * * * \n",
    "    * * * * * \n",
    "      * * * * \n",
    "        * * * \n",
    "          * * \n",
    "            * "
   ]
  },
  {
   "cell_type": "code",
   "execution_count": 13,
   "metadata": {},
   "outputs": [
    {
     "name": "stdout",
     "output_type": "stream",
     "text": [
      "        * \n",
      "      * * \n",
      "    * * * \n",
      "  * * * * \n",
      "* * * * * \n",
      "  * * * * \n",
      "    * * * \n",
      "      * * \n",
      "        * \n"
     ]
    }
   ],
   "source": [
    "for i in range(1,6):\n",
    "    print(\"  \"*(5-i)+\"* \"*i)\n",
    "for i in range(4,0,-1):\n",
    "    print(\"  \"*(5-i)+\"* \"*i)"
   ]
  },
  {
   "cell_type": "markdown",
   "metadata": {},
   "source": [
    "## Pattern 14"
   ]
  },
  {
   "cell_type": "markdown",
   "metadata": {},
   "source": [
    "    * * * * * \n",
    "     * * * * \n",
    "      * * * \n",
    "       * * \n",
    "        * \n",
    "        * \n",
    "       * * \n",
    "      * * * \n",
    "     * * * * \n",
    "    * * * * * \n"
   ]
  },
  {
   "cell_type": "code",
   "execution_count": 14,
   "metadata": {
    "scrolled": true
   },
   "outputs": [
    {
     "name": "stdout",
     "output_type": "stream",
     "text": [
      "* * * * * \n",
      " * * * * \n",
      "  * * * \n",
      "   * * \n",
      "    * \n",
      "    * \n",
      "   * * \n",
      "  * * * \n",
      " * * * * \n",
      "* * * * * \n"
     ]
    }
   ],
   "source": [
    "for i in range(5,0,-1):\n",
    "    print(\" \"*(5-i)+\"* \"*i)\n",
    "for i in range(1, 6):\n",
    "    print(\" \"*(5-i)+\"* \"*i)"
   ]
  },
  {
   "cell_type": "markdown",
   "metadata": {},
   "source": [
    "## Pattern 15"
   ]
  },
  {
   "cell_type": "markdown",
   "metadata": {},
   "source": [
    "    ****************\n",
    "    *******__*******\n",
    "    ******____******\n",
    "    *****______*****\n",
    "    ****________****\n",
    "    ***__________***\n",
    "    **____________**\n",
    "    *______________*"
   ]
  },
  {
   "cell_type": "code",
   "execution_count": 15,
   "metadata": {},
   "outputs": [
    {
     "name": "stdout",
     "output_type": "stream",
     "text": [
      "**************** \n",
      "*******__******* \n",
      "******____****** \n",
      "*****______***** \n",
      "****________**** \n",
      "***__________*** \n",
      "**____________** \n",
      "*______________* \n"
     ]
    }
   ],
   "source": [
    "for i in range(8,0,-1):\n",
    "    for j in range(i,0,-1):\n",
    "        print('*', end='')\n",
    "    for k in range(8,i,-1):\n",
    "        print('_'*2, end='')\n",
    "    for l in range(0,i):\n",
    "        print('*',end='')\n",
    "    print(\" \")"
   ]
  },
  {
   "cell_type": "markdown",
   "metadata": {},
   "source": [
    "# Thank You"
   ]
  }
 ],
 "metadata": {
  "kernelspec": {
   "display_name": "Python 3",
   "language": "python",
   "name": "python3"
  },
  "language_info": {
   "codemirror_mode": {
    "name": "ipython",
    "version": 3
   },
   "file_extension": ".py",
   "mimetype": "text/x-python",
   "name": "python",
   "nbconvert_exporter": "python",
   "pygments_lexer": "ipython3",
   "version": "3.7.3"
  }
 },
 "nbformat": 4,
 "nbformat_minor": 2
}
